{
 "cells": [
  {
   "cell_type": "markdown",
   "metadata": {},
   "source": [
    "<h1>Softmax Classifer 1D</h1>"
   ]
  },
  {
   "cell_type": "markdown",
   "metadata": {},
   "source": [
    "<h2>Preparation</h2>"
   ]
  },
  {
   "cell_type": "markdown",
   "metadata": {},
   "source": [
    "We'll need the following libraries:"
   ]
  },
  {
   "cell_type": "code",
   "execution_count": 1,
   "metadata": {},
   "outputs": [],
   "source": [
    "# Import the libraries we need for this lab\n",
    "import os\n",
    "import torch.nn as nn\n",
    "import torch\n",
    "import matplotlib.pyplot as plt \n",
    "import numpy as np\n",
    "from torch.utils.data import Dataset, DataLoader\n",
    "\n",
    "os.environ['KMP_DUPLICATE_LIB_OK']='True'"
   ]
  },
  {
   "cell_type": "markdown",
   "metadata": {},
   "source": [
    "Use the helper function to plot labeled data points: "
   ]
  },
  {
   "cell_type": "code",
   "execution_count": 2,
   "metadata": {},
   "outputs": [],
   "source": [
    "# Create class for plotting\n",
    "\n",
    "def plot_data(data_set, model = None, n = 1, color = False):\n",
    "    X = data_set[:][0]\n",
    "    Y = data_set[:][1]\n",
    "    plt.plot(X[Y == 0, 0].numpy(), Y[Y == 0].numpy(), 'bo', label = 'y = 0')\n",
    "    plt.plot(X[Y == 1, 0].numpy(), 0 * Y[Y == 1].numpy(), 'ro', label = 'y = 1')\n",
    "    plt.plot(X[Y == 2, 0].numpy(), 0 * Y[Y == 2].numpy(), 'go', label = 'y = 2')\n",
    "    plt.ylim((-0.1, 3))\n",
    "    plt.legend()\n",
    "    if model != None:\n",
    "        w = list(model.parameters())[0][0].detach()\n",
    "        b = list(model.parameters())[1][0].detach()\n",
    "        y_label = ['yhat=0', 'yhat=1', 'yhat=2']\n",
    "        y_color = ['b', 'r', 'g']\n",
    "        Y = []\n",
    "        for w, b, y_l, y_c in zip(model.state_dict()['0.weight'], model.state_dict()['0.bias'], y_label, y_color):\n",
    "            Y.append((w * X + b).numpy())\n",
    "            plt.plot(X.numpy(), (w * X + b).numpy(), y_c, label = y_l)\n",
    "        if color == True:\n",
    "            x = X.numpy()\n",
    "            x = x.reshape(-1)\n",
    "            top = np.ones(x.shape)\n",
    "            y0 = Y[0].reshape(-1)\n",
    "            y1 = Y[1].reshape(-1)\n",
    "            y2 = Y[2].reshape(-1)\n",
    "            plt.fill_between(x, y0, where = y1 > y1, interpolate = True, color = 'blue')\n",
    "            plt.fill_between(x, y0, where = y1 > y2, interpolate = True, color = 'blue')\n",
    "            plt.fill_between(x, y1, where = y1 > y0, interpolate = True, color = 'red')\n",
    "            plt.fill_between(x, y1, where = ((y1 > y2) * (y1 > y0)),interpolate = True, color = 'red')\n",
    "            plt.fill_between(x, y2, where = (y2 > y0) * (y0 > 0),interpolate = True, color = 'green')\n",
    "            plt.fill_between(x, y2, where = (y2 > y1), interpolate = True, color = 'green')\n",
    "    plt.legend()\n",
    "    plt.show()"
   ]
  },
  {
   "cell_type": "markdown",
   "metadata": {},
   "source": [
    "Set the random seed:"
   ]
  },
  {
   "cell_type": "code",
   "execution_count": 3,
   "metadata": {},
   "outputs": [
    {
     "data": {
      "text/plain": [
       "<torch._C.Generator at 0x21f6a1ab5b0>"
      ]
     },
     "execution_count": 3,
     "metadata": {},
     "output_type": "execute_result"
    }
   ],
   "source": [
    "#Set the random seed\n",
    "\n",
    "torch.manual_seed(0)"
   ]
  },
  {
   "cell_type": "markdown",
   "metadata": {},
   "source": [
    "<!--Empty Space for separating topics-->"
   ]
  },
  {
   "cell_type": "markdown",
   "metadata": {},
   "source": [
    "<h2 id=\"Makeup_Data\">Make Some Data</h2> "
   ]
  },
  {
   "cell_type": "markdown",
   "metadata": {},
   "source": [
    "Create some linearly separable data with three classes: "
   ]
  },
  {
   "cell_type": "code",
   "execution_count": 4,
   "metadata": {},
   "outputs": [],
   "source": [
    "# Create the data class\n",
    "\n",
    "class Data(Dataset):\n",
    "    \n",
    "    # Constructor\n",
    "    def __init__(self):\n",
    "        self.x = torch.arange(-2, 2, 0.1).view(-1, 1)\n",
    "        self.y = torch.zeros(self.x.shape[0])\n",
    "        self.y[(self.x > -1.0)[:, 0] * (self.x < 1.0)[:, 0]] = 1\n",
    "        self.y[(self.x >= 1.0)[:, 0]] = 2\n",
    "        self.y = self.y.type(torch.LongTensor)\n",
    "        self.len = self.x.shape[0]\n",
    "        \n",
    "    # Getter\n",
    "    def __getitem__(self,index):      \n",
    "        return self.x[index], self.y[index]\n",
    "    \n",
    "    # Get Length\n",
    "    def __len__(self):\n",
    "        return self.len"
   ]
  },
  {
   "cell_type": "markdown",
   "metadata": {},
   "source": [
    "Create the dataset object:"
   ]
  },
  {
   "cell_type": "code",
   "execution_count": 5,
   "metadata": {},
   "outputs": [
    {
     "data": {
      "image/png": "[encoded data removed]",
      "text/plain": [
       "<Figure size 432x288 with 1 Axes>"
      ]
     },
     "metadata": {
      "needs_background": "light"
     },
     "output_type": "display_data"
    }
   ],
   "source": [
    "# Create the dataset object and plot the dataset object\n",
    "\n",
    "data_set = Data()\n",
    "data_set.x\n",
    "plot_data(data_set)"
   ]
  },
  {
   "cell_type": "markdown",
   "metadata": {},
   "source": [
    "<!--Empty Space for separating topics-->"
   ]
  },
  {
   "cell_type": "markdown",
   "metadata": {},
   "source": [
    "<h2 id=\"Softmax\">Build a Softmax Classifier </h2>"
   ]
  },
  {
   "cell_type": "markdown",
   "metadata": {},
   "source": [
    "Build a Softmax classifier by using the Sequential module:"
   ]
  },
  {
   "cell_type": "code",
   "execution_count": 6,
   "metadata": {},
   "outputs": [
    {
     "data": {
      "text/plain": [
       "OrderedDict([('0.weight', tensor([[-0.0075],\n",
       "                      [ 0.5364],\n",
       "                      [-0.8230]])),\n",
       "             ('0.bias', tensor([-0.7359, -0.3852,  0.2682]))])"
      ]
     },
     "execution_count": 6,
     "metadata": {},
     "output_type": "execute_result"
    }
   ],
   "source": [
    "# Build Softmax Classifier technically you only need nn.Linear\n",
    "\n",
    "model = nn.Sequential(nn.Linear(1, 3))\n",
    "model.state_dict()"
   ]
  },
  {
   "cell_type": "markdown",
   "metadata": {},
   "source": [
    "<!--Empty Space for separating topics-->"
   ]
  }
 ],
 "metadata": {
  "kernelspec": {
   "display_name": "Python [conda env:learn-env] *",
   "language": "python",
   "name": "conda-env-learn-env-py"
  },
  "language_info": {
   "codemirror_mode": {
    "name": "ipython",
    "version": 3
   },
   "file_extension": ".py",
   "mimetype": "text/x-python",
   "name": "python",
   "nbconvert_exporter": "python",
   "pygments_lexer": "ipython3",
   "version": "3.6.10"
  }
 },
 "nbformat": 4,
 "nbformat_minor": 2
}
